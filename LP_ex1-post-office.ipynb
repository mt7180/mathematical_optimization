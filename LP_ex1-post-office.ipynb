{
 "cells": [
  {
   "cell_type": "markdown",
   "metadata": {},
   "source": [
    "## Linear Optimization (pyomo vs. linopy)\n",
    "\n",
    "\n",
    "### Exercise:\n"
   ]
  },
  {
   "cell_type": "markdown",
   "metadata": {},
   "source": [
    "A post office requires a different number of full time employees on different days of the week: Each worker must work 5 consecutive days and then have 2 days off. Minimize the number of workers to be hired.\n",
    "\n",
    "Sets:\n",
    "$$D = \\text{set of week days}$$\n",
    "$$W = \\text{set of consecutive working days}$$\n",
    "Variables:\n",
    "$$x \\in \\mathbb{Z}^+$$\n",
    "Objective:\n",
    "minimize the total number of employees\n",
    "$$min_x\\text{ z} = \\sum_{d \\in D} x_d$$\n",
    "subject to:\n",
    "$$\\sum_{w \\in W} x_{(d+w)} \\mod 7 \\geq \\epsilon _d \\quad \\forall d \\in D$$\n",
    "$$\\epsilon_d:\\text{number of full time employees per day}$$  \n",
    "with \"number of full time employees per day\":\n",
    "<table style=\"margin-left: auto;margin-right: auto;\">\n",
    "  <tr>\n",
    "    <td>Monday</td>\n",
    "    <td>Tuesday</td>\n",
    "    <td>Wednesday</td>\n",
    "    <td>Thursday</td>\n",
    "    <td>Friday</td>\n",
    "    <td>Saturday</td>\n",
    "    <td>Sunday</td>\n",
    "  </tr>\n",
    "  <tr>\n",
    "    <td>17</td>\n",
    "    <td>13</td>\n",
    "    <td>15</td>\n",
    "    <td>19</td>\n",
    "    <td>14</td>\n",
    "    <td>16</td>\n",
    "    <td>11</td>\n",
    "  </tr>\n",
    "</table>\n"
   ]
  },
  {
   "cell_type": "markdown",
   "metadata": {},
   "source": []
  },
  {
   "cell_type": "markdown",
   "metadata": {},
   "source": [
    "## Pyomo Solution"
   ]
  },
  {
   "cell_type": "code",
   "execution_count": null,
   "metadata": {},
   "outputs": [],
   "source": [
    "import pyomo.environ as pyo\n",
    "model = pyo.ConcreteModel()\n",
    "\n",
    "model.d = pyo.Set(initialize = range(7), doc='days of the week, starting at monday')\n",
    "model.wd = pyo.Set(initialize = range(5), doc='consecutive working days')\n",
    "\n",
    "model.x = pyo.Var(model.d, within=pyo.NonNegativeIntegers, doc='number of starting workers per day' )\n",
    "model.epsilon = pyo.Param(\n",
    "    model.d,\n",
    "    initialize={day: employees for day, employees in zip(model.d, [17,13,15,19,14,16,11])},\n",
    "    doc='number of full time employees per day'\n",
    ")\n",
    "\n",
    "model.total_number_employees = pyo.Objective(expr = sum(model.x[d] for d in model.d), sense=pyo.minimize)\n",
    "\n",
    "def rule1(model, d):\n",
    "    return sum(model.x[(d+ working_day)%7]  for working_day in model.wd)  >= model.epsilon[d]\n",
    "\n",
    "model.employees_day_constraint = pyo.Constraint(model.d, rule=rule1, doc=\"full time employees per day requirement\")\n",
    "\n",
    "optimizer = pyo.SolverFactory('appsi_highs')\n",
    "result = optimizer.solve(model)\n",
    "\n",
    "result.write()\n",
    "print(\"\\n# \" + \"=\"*50)\n",
    "print(f\"# Number of overall employees: {model.total_number_employees()}\")\n",
    "print(\"# \" + \"=\"*50 +\"\\n\")\n",
    "model.pprint()\n"
   ]
  },
  {
   "cell_type": "markdown",
   "metadata": {},
   "source": [
    "#### How to find the variables and objective of a model, if you don't know the name:"
   ]
  },
  {
   "cell_type": "code",
   "execution_count": null,
   "metadata": {},
   "outputs": [],
   "source": [
    "\n",
    "for model_var in model.component_objects(pyo.Var, active=True):\n",
    "    print(model_var.doc)\n",
    "    varobject = getattr(model, str(model_var))\n",
    "    for index in varobject:\n",
    "        print(f\"{model_var}[{index}]: {pyo.value(varobject[index])}\")\n",
    "for o in  model.component_objects(pyo.Objective, active=True):\n",
    "    obj = getattr(model, str(o))\n",
    "    print(f\"{obj.name}: {pyo.value(obj)}\")\n"
   ]
  },
  {
   "cell_type": "markdown",
   "metadata": {},
   "source": [
    "# Linopy Solution"
   ]
  },
  {
   "cell_type": "code",
   "execution_count": null,
   "metadata": {},
   "outputs": [],
   "source": [
    "import linopy\n",
    "import xarray as xr\n",
    "import pandas as pd\n"
   ]
  },
  {
   "cell_type": "code",
   "execution_count": null,
   "metadata": {},
   "outputs": [],
   "source": [
    "model = linopy.Model()\n",
    "\n",
    "## Sets\n",
    "# the days of the week, starting at monday\n",
    "d = pd.RangeIndex(7) #, name='days')\n",
    "# consecutive working days\n",
    "wd = pd.RangeIndex(5)\n",
    "\n",
    "## Variables\n",
    "#   x(d)    number of starting workers per day\n",
    "#   z       total number of employees to be hired\n",
    "x = model.add_variables(lower=0, coords=[d],name='x', integer=True)\n"
   ]
  },
  {
   "cell_type": "code",
   "execution_count": null,
   "metadata": {},
   "outputs": [],
   "source": [
    "\n",
    "## Parameters\n",
    "# number of full time employees per day\n",
    "epsilon = xr.DataArray([17, 13, 15, 19, 14, 16, 11], coords=[d], name=\"epsilon\")"
   ]
  },
  {
   "cell_type": "code",
   "execution_count": null,
   "metadata": {},
   "outputs": [],
   "source": [
    "## Constraints\n",
    "\n",
    "def con_lhs(model, d):\n",
    "    return sum(x[(d+ working_day)%7] for working_day in wd)\n",
    "\n",
    "con = model.linexpr(con_lhs, [d]) >= epsilon\n"
   ]
  },
  {
   "cell_type": "code",
   "execution_count": null,
   "metadata": {},
   "outputs": [],
   "source": [
    "model.add_constraints(con, name='full time employee requirement')"
   ]
  },
  {
   "cell_type": "code",
   "execution_count": null,
   "metadata": {},
   "outputs": [],
   "source": [
    "model.constraints"
   ]
  },
  {
   "cell_type": "code",
   "execution_count": null,
   "metadata": {},
   "outputs": [],
   "source": [
    "print(linopy.available_solvers)"
   ]
  },
  {
   "cell_type": "code",
   "execution_count": null,
   "metadata": {},
   "outputs": [],
   "source": [
    "objective = x.sum()\n",
    "model.add_objective(objective, sense=\"min\")\n",
    "\n",
    "model.solve()\n"
   ]
  }
 ],
 "metadata": {
  "kernelspec": {
   "display_name": "pypsa_venv",
   "language": "python",
   "name": "python3"
  },
  "language_info": {
   "codemirror_mode": {
    "name": "ipython",
    "version": 3
   },
   "file_extension": ".py",
   "mimetype": "text/x-python",
   "name": "python",
   "nbconvert_exporter": "python",
   "pygments_lexer": "ipython3",
   "version": "3.11.9"
  }
 },
 "nbformat": 4,
 "nbformat_minor": 2
}
