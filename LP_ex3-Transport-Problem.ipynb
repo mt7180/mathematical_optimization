{
 "cells": [
  {
   "cell_type": "markdown",
   "metadata": {},
   "source": [
    "# Transport Problem\n",
    "\n",
    "Transport flow optimization involves finding the most efficient way to transport quantities of an homogenuous good through a transportation network having production plants and a specific demand of the market, minimizing the transport costs while meeting specific constraints. It can be formulated as a linear optimization problem.\n",
    "\n",
    "## Problem Formulation\n",
    "Having different plants with specific supply limits and customers with specific demands at different locations, find the optimal transport flow to minimize transportation costs. Only one good is considered here, the production costs are assumed to be the same for each plant, only the transportation costs are relevant, which are proportional to the distance between plant and customer. \n"
   ]
  },
  {
   "cell_type": "markdown",
   "metadata": {},
   "source": [
    "\n",
    "### Mathematical formulation of the Transport Problem\n",
    "\n",
    "Sets:\n",
    "$$I :  \\text{set of all plants}$$\n",
    "$$J :  \\text{set of all customers}$$\n",
    "<p style=\"text-align:center;\">no set of goods needed, only one good considered here</p>\n",
    "\n",
    "Variables:\n",
    "$$x_{ij} : \\text{transport quantities from i to j in units}$$\n",
    "\n",
    "Parameters:\n",
    "$$d_{ij} > 0: \\text{distance between supplier i and customer j}$$\n",
    "$$c_{ij} = f * d_{ij}: \\text{transport cost per unit, proportional to the distance}$$\n",
    "\n",
    "$$ a_i: \\text{capacity of plant i in units, } \\forall i \\in I $$\n",
    "$$ b_i: \\text{demand of customer j in units, } \\forall j \\in J $$\n",
    "\n",
    "  \n",
    "Objective:  <p style=\"text-align:center;\">minimize the total cost to transport all unit of goods from the suppliers to the customers</p>  \n",
    "\n",
    "$$min_x z = \\sum_{i \\in I} \\sum_{j \\in J}c_{ij} x_{ij}$$\n",
    "subject to:\n",
    "\n",
    "$$ \\begin{gather}  \n",
    " \\sum_{j \\in J} x_{ij} <= a_i, \\forall i \\in I  \\\\  \n",
    " \\sum_{i \\in I} x_{ij} >= b_j, \\forall j \\in J \\\\\n",
    " x_{ij} >= 0, \\forall i \\in I, \\forall j \\in J.\n",
    "\\end{gather} $$\n",
    "\n",
    "explanation: \n",
    "1) Constraint to reflect the supply limit of plant i \n",
    "2) Constraint to satisfy the demand of customer j\n",
    "3) Constraint to ensure non-negative transport quantities"
   ]
  },
  {
   "cell_type": "code",
   "execution_count": 85,
   "metadata": {},
   "outputs": [],
   "source": [
    "import math\n",
    "import pandas as pd\n",
    "import random\n",
    "from typing import NamedTuple, Self\n",
    "\n",
    "NUMBER_OF_PLANTS = 5\n",
    "NUMBER_OF_CUSTOMERS = 10\n",
    "\n",
    "\n",
    "def calc_distance(node1: tuple, node2: tuple) -> float:\n",
    "    return math.sqrt((node1[0] - node2[0]) ** 2 + (node1[1] - node2[1]) ** 2)\n",
    "\n",
    "# some random data\n",
    "plants = pd.DataFrame.from_dict({\n",
    "    id+1: [(random.random()*500, random.random()*500), random.randint(0,500)]\n",
    "    for id in range(NUMBER_OF_PLANTS)\n",
    "}, orient = \"index\", columns=[\"coordinates\", \"supply_limit\"])\n",
    "\n",
    "customers = pd.DataFrame.from_dict({\n",
    "    id+1: [(random.random()*500, random.random()*500), random.randint(0,NUMBER_OF_PLANTS*10)]\n",
    "    for id in range(NUMBER_OF_CUSTOMERS)\n",
    "}, orient = \"index\", columns=[\"coordinates\", \"demand\"]) \n"
   ]
  },
  {
   "cell_type": "code",
   "execution_count": 82,
   "metadata": {},
   "outputs": [],
   "source": [
    "import pyomo.environ as pyo\n",
    "\n",
    "model = pyo.ConcreteModel()\n",
    "\n",
    "transport_costs_per_km_and_unit = 0.2 # EUR/km /unit\n",
    "\n",
    "# Sets\n",
    "model.plants = pyo.Set(initialize=list(plants.index))\n",
    "model.customers = pyo.Set(initialize=list(customers.index))\n",
    "\n",
    "# Decision Variable\n",
    "model.x = pyo.Var(model.plants, model.customers, within=pyo.NonNegativeIntegers )\n",
    "\n",
    "# Params\n",
    "def init_costs(model, i, j):\n",
    "    node_i = plants.loc[i, \"coordinates\"]\n",
    "    node_j = customers.loc[j, \"coordinates\"]\n",
    "    return transport_costs_per_km_and_unit * calc_distance(node_i, node_j)\n",
    "model.costs_per_quantity = pyo.Param(model.plants, model.customers, initialize=init_costs)\n",
    "\n",
    "model.a = pyo.Param(model.plants, initialize=plants[\"supply_limit\"])\n",
    "model.b = pyo.Param(model.customers, initialize=customers.demand)\n",
    "\n",
    "# Objective\n",
    "model.total_costs = pyo.Objective(\n",
    "    expr= sum(\n",
    "        model.costs_per_quantity[i,j] * model.x[i,j]\n",
    "        for i in model.plants \n",
    "        for j in model.customers\n",
    "    ),\n",
    "    sense=pyo.minimize\n",
    ")\n",
    "\n",
    "# Constraints\n",
    "def supply_rule(model, i):\n",
    "    return sum(model.x[i,j] for j in model.customers) <= model.a[i] \n",
    "model.supply_limit = pyo.Constraint(model.plants, rule=supply_rule)\n",
    "\n",
    "def demand_rule(model, j):\n",
    "    return sum(model.x[i,j] for i in model.plants) >= model.b[j] \n",
    "model.satisfy_demand = pyo.Constraint(model.customers, rule=demand_rule)\n",
    "\n",
    "def transport_rule(model, i, j):\n",
    "    return model.x[i, j] >= 0\n",
    "model.no_negative_transport = pyo.Constraint(model.plants, model.customers, rule=transport_rule)\n"
   ]
  },
  {
   "cell_type": "code",
   "execution_count": null,
   "metadata": {},
   "outputs": [],
   "source": [
    "\n",
    "optimizer = pyo.SolverFactory(\"appsi_highs\")\n",
    "result = optimizer.solve(model)\n",
    "\n",
    "result.write()\n",
    "print(f\"total cost: {pyo.value(model.total_costs)}\")\n",
    "\n"
   ]
  },
  {
   "cell_type": "code",
   "execution_count": null,
   "metadata": {},
   "outputs": [],
   "source": [
    "# Show the transport flows\n",
    "model.x.display()"
   ]
  },
  {
   "cell_type": "markdown",
   "metadata": {},
   "source": [
    "Resources:\n",
    "- https://de.wikipedia.org/wiki/Transportproblem\n",
    "\n",
    "- https://en.wikipedia.org/wiki/Transportation_theory_(mathematics)"
   ]
  },
  {
   "cell_type": "markdown",
   "metadata": {},
   "source": []
  }
 ],
 "metadata": {
  "kernelspec": {
   "display_name": "pypsa_venv",
   "language": "python",
   "name": "python3"
  },
  "language_info": {
   "codemirror_mode": {
    "name": "ipython",
    "version": 3
   },
   "file_extension": ".py",
   "mimetype": "text/x-python",
   "name": "python",
   "nbconvert_exporter": "python",
   "pygments_lexer": "ipython3",
   "version": "3.11.9"
  }
 },
 "nbformat": 4,
 "nbformat_minor": 2
}
