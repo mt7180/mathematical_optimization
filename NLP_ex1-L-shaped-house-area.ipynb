{
 "cells": [
  {
   "cell_type": "markdown",
   "metadata": {},
   "source": [
    "# NLP pyomo Exercise\n",
    "nonlinear programming (NLP) is the process of solving an optimization problem where some of the constraints or the objective function are nonlinear.\n",
    "\n",
    "## Problem Formulation\n",
    "maximizing an L-shaped house area:\n",
    "https://archive.org/stream/bitsavers_borlandEurandbook1987_8873507/Eureka_The_Solver_Owners_Handbook_1987_djvu.txt"
   ]
  },
  {
   "cell_type": "markdown",
   "metadata": {},
   "source": [
    "\n",
    "Variables:\n",
    "$$x, y, a, b \\in \\mathbb{R}^+$$\n",
    "Objective:\n",
    "maximize the total area of the floors:\n",
    "$$max \\text{ z} = x*y + a*b + x*(a+1/2*y)$$\n",
    "subject to:\n",
    "$$x*y + a*b \\leq 3000$$\n",
    "$$y*(b-x) \\geq 1500$$\n",
    "$$a/y \\geq 1/2$$\n",
    "$$1/2*b \\geq x \\geq 1/3*b$$\n",
    "$$b \\leq 150-2*25$$\n",
    "$$a \\leq 90-2*10$$\n",
    " "
   ]
  },
  {
   "cell_type": "code",
   "execution_count": 25,
   "metadata": {},
   "outputs": [
    {
     "name": "stdout",
     "output_type": "stream",
     "text": [
      "# ==========================================================\n",
      "# = Solver Results                                         =\n",
      "# ==========================================================\n",
      "# ----------------------------------------------------------\n",
      "#   Problem Information\n",
      "# ----------------------------------------------------------\n",
      "Problem: \n",
      "- Lower bound: -inf\n",
      "  Upper bound: inf\n",
      "  Number of objectives: 1\n",
      "  Number of constraints: 7\n",
      "  Number of variables: 4\n",
      "  Sense: unknown\n",
      "# ----------------------------------------------------------\n",
      "#   Solver Information\n",
      "# ----------------------------------------------------------\n",
      "Solver: \n",
      "- Status: ok\n",
      "  Message: Ipopt 3.11.1\\x3a Optimal Solution Found\n",
      "  Termination condition: optimal\n",
      "  Id: 0\n",
      "  Error rc: 0\n",
      "  Time: 1.0047779083251953\n",
      "# ----------------------------------------------------------\n",
      "#   Solution Information\n",
      "# ----------------------------------------------------------\n",
      "Solution: \n",
      "- number of solutions: 0\n",
      "  number of solutions displayed: 0\n"
     ]
    }
   ],
   "source": [
    "import pyomo.environ as pyomo\n",
    "m = pyomo.ConcreteModel()\n",
    "m.i = pyomo.RangeSet(3)\n",
    "m.a = pyomo.Var(domain=pyomo.PositiveReals)\n",
    "m.b = pyomo.Var(domain=pyomo.PositiveReals)\n",
    "m.x = pyomo.Var(domain=pyomo.PositiveReals)\n",
    "m.y = pyomo.Var(domain=pyomo.PositiveReals)\n",
    "A = {\n",
    "    1: m.x * m.y,\n",
    "    2: m.a * m.b,\n",
    "    3: m.x * ( m.a + m.y / 2),\n",
    "}\n",
    "m.obj = pyomo.Objective(expr=sum(A[i] for i in m.i), sense=pyomo.maximize)\n",
    "m.floor_constraint = pyomo.Constraint(rule=lambda m: A[1] + A[2] <= 3000)\n",
    "m.pool_constraint = pyomo.Constraint(rule=lambda m: m.y*(m.b - m.x) >= 1500)\n",
    "m.width_constraint1 = pyomo.Constraint(rule=lambda m: m.x / m.b >= 1/3)\n",
    "m.width_constraint2 = pyomo.Constraint(rule=lambda m: m.x / m.b <= 1/2)\n",
    "m.second_story_constraint = pyomo.Constraint(rule = lambda m: m.a >= 1/2 * m.y)\n",
    "m.lot_width_constraint = pyomo.Constraint(rule=lambda m: m.b <= 150 - 2*25)\n",
    "m.lot_depth_constraint = pyomo.Constraint(rule=lambda m: m.a <= 90 - 2*10)\n",
    "\n",
    "optimizer = pyomo.SolverFactory('ipopt', executable='/Users/xxx/Downloads/Ipopt-3.11.1-mac-osx-x86_64-gcc4.5.3/bin/ipopt')\n",
    "log = optimizer.solve(m)\n",
    "\n",
    "log.write()"
   ]
  },
  {
   "cell_type": "code",
   "execution_count": 26,
   "metadata": {},
   "outputs": [
    {
     "name": "stdout",
     "output_type": "stream",
     "text": [
      "size of total square footage floor: 4500.000055054773\n",
      "1 RangeSet Declarations\n",
      "    i : Dimen=1, Size=3, Bounds=(1, 3)\n",
      "        Key  : Finite : Members\n",
      "        None :   True :   [1:3]\n",
      "\n",
      "4 Var Declarations\n",
      "    a : Size=1, Index=None\n",
      "        Key  : Lower : Value              : Upper : Fixed : Stale : Domain\n",
      "        None :     0 : 42.494285321336484 :  None : False : False : PositiveReals\n",
      "    b : Size=1, Index=None\n",
      "        Key  : Lower : Value              : Upper : Fixed : Stale : Domain\n",
      "        None :     0 : 35.298864151579316 :  None : False : False : PositiveReals\n",
      "    x : Size=1, Index=None\n",
      "        Key  : Lower : Value              : Upper : Fixed : Stale : Domain\n",
      "        None :     0 : 17.649432312403402 :  None : False : False : PositiveReals\n",
      "    y : Size=1, Index=None\n",
      "        Key  : Lower : Value             : Upper : Fixed : Stale : Domain\n",
      "        None :     0 : 84.98857066182082 :  None : False : False : PositiveReals\n",
      "\n",
      "1 Objective Declarations\n",
      "    obj : Size=1, Index=None, Active=True\n",
      "        Key  : Active : Sense    : Expression\n",
      "        None :   True : maximize : x*y + a*b + x*(a + 0.5*y)\n",
      "\n",
      "7 Constraint Declarations\n",
      "    floor_constraint : Size=1, Index=None, Active=True\n",
      "        Key  : Lower : Body      : Upper  : Active\n",
      "        None :  -Inf : x*y + a*b : 3000.0 :   True\n",
      "    lot_depth_constraint : Size=1, Index=None, Active=True\n",
      "        Key  : Lower : Body : Upper : Active\n",
      "        None :  -Inf :    a :  70.0 :   True\n",
      "    lot_width_constraint : Size=1, Index=None, Active=True\n",
      "        Key  : Lower : Body : Upper : Active\n",
      "        None :  -Inf :    b : 100.0 :   True\n",
      "    pool_constraint : Size=1, Index=None, Active=True\n",
      "        Key  : Lower  : Body      : Upper : Active\n",
      "        None : 1500.0 : y*(b - x) :  +Inf :   True\n",
      "    second_story_constraint : Size=1, Index=None, Active=True\n",
      "        Key  : Lower : Body      : Upper : Active\n",
      "        None :  -Inf : 0.5*y - a :   0.0 :   True\n",
      "    width_constraint1 : Size=1, Index=None, Active=True\n",
      "        Key  : Lower              : Body : Upper : Active\n",
      "        None : 0.3333333333333333 :  x/b :  +Inf :   True\n",
      "    width_constraint2 : Size=1, Index=None, Active=True\n",
      "        Key  : Lower : Body : Upper : Active\n",
      "        None :  -Inf :  x/b :   0.5 :   True\n",
      "\n",
      "13 Declarations: i a b x y obj floor_constraint pool_constraint width_constraint1 width_constraint2 second_story_constraint lot_width_constraint lot_depth_constraint\n"
     ]
    }
   ],
   "source": [
    "print(f\"size of total square footage floor: {m.obj()}\")\n",
    "\n",
    "m.pprint()"
   ]
  },
  {
   "cell_type": "code",
   "execution_count": null,
   "metadata": {},
   "outputs": [],
   "source": []
  }
 ],
 "metadata": {
  "kernelspec": {
   "display_name": "pypsa_venv",
   "language": "python",
   "name": "python3"
  },
  "language_info": {
   "codemirror_mode": {
    "name": "ipython",
    "version": 3
   },
   "file_extension": ".py",
   "mimetype": "text/x-python",
   "name": "python",
   "nbconvert_exporter": "python",
   "pygments_lexer": "ipython3",
   "version": "3.11.7"
  }
 },
 "nbformat": 4,
 "nbformat_minor": 2
}
