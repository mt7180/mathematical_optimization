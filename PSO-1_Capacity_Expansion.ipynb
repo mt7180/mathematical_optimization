{
 "cells": [
  {
   "cell_type": "markdown",
   "metadata": {},
   "source": [
    "## 1. Basic Capacity Expansion Problem\n",
    "\n",
    "**Objective**: minimizing the cost of fixed and variable costs across a fleet of power generators to meet anticipated future electricity demand.  \n",
    "**Note**:\n",
    "Inter-temporal operating constraints (e.g. ramp limits), energy storage, network constraints and geospatial tradeoffs, unit commitment decisions for thermal generators and operating reserves are ignored here\n",
    "\n",
    "#### Different complexity levels:  \n",
    "- Optimal thermal generator capacity expansion problem (Greenfield)  \n",
    "- Co-optimizing thermal generators and variable renewables  \n",
    "- Brownfield expansion and retirement decisions"
   ]
  },
  {
   "cell_type": "markdown",
   "metadata": {},
   "source": [
    "$$G = \\text{set of generators [geo, coal, CCGT, CT] }$$  \n",
    "$$H = \\text{the set of hours of the year}$$\n",
    "\n",
    "#### e.g.: Optimal thermal generator capacity expansion problem (Greenfield)\n",
    "\n",
    "Objective Function and corresponding constraints:  \n",
    "$$\\begin{aligned}\n",
    "    \\min &\\sum_{g \\in G} \\left(FixedCost_g \\times CAP_g +  \\sum_{h \\in H} VarCost_g \\times GEN_{g,h}\\right)& \\\\\n",
    "    &\\quad\\quad+ \\sum_{h \\in H} NSECost \\times NSE_h & \\\\\n",
    "    &\\text{s.t.} & \\\\\n",
    "    & \\sum_{g \\in G} GEN_{g,h} + NSE_h = Demand_h & \\forall \\quad h \\in H \\\\\n",
    "    & GEN_{g,h} \\leq CAP_g & \\forall \\quad g \\in G \\text{ \\& } h \\in H \\\\\n",
    "    & CAP_{g} \\geq 0 & \\forall \\quad g \\in G \\\\\n",
    "    & NSE_{h} \\geq 0 & \\forall \\quad h \\in H \\\\\n",
    "    & GEN_{g,h} \\geq 0 & \\forall \\quad g \\in G \\text{ \\& } h \\in H \\\\\n",
    "    \\end{aligned}$$\n",
    " "
   ]
  },
  {
   "cell_type": "markdown",
   "metadata": {},
   "source": [
    "Decision Variables:  \n",
    "$CAP_g$: the capacity (in MW) of each generation type  \n",
    "$GEN_{g,h}$ : the generation (in MWh) produced by each generator in each hour  \n",
    "$NSE_h$ :the quantity of involuntarily curtailed demand in each hour (in MWh)"
   ]
  },
  {
   "cell_type": "code",
   "execution_count": 1,
   "metadata": {},
   "outputs": [
    {
     "data": {
      "text/html": [
       "<div>\n",
       "<style scoped>\n",
       "    .dataframe tbody tr th:only-of-type {\n",
       "        vertical-align: middle;\n",
       "    }\n",
       "\n",
       "    .dataframe tbody tr th {\n",
       "        vertical-align: top;\n",
       "    }\n",
       "\n",
       "    .dataframe thead th {\n",
       "        text-align: right;\n",
       "    }\n",
       "</style>\n",
       "<table border=\"1\" class=\"dataframe\">\n",
       "  <thead>\n",
       "    <tr style=\"text-align: right;\">\n",
       "      <th></th>\n",
       "      <th>Resource</th>\n",
       "      <th>Pmax</th>\n",
       "      <th>Pmin</th>\n",
       "      <th>is_variable</th>\n",
       "      <th>CF</th>\n",
       "      <th>VarOM</th>\n",
       "      <th>FuelCost</th>\n",
       "      <th>HeatRate</th>\n",
       "      <th>Capex</th>\n",
       "    </tr>\n",
       "  </thead>\n",
       "  <tbody>\n",
       "    <tr>\n",
       "      <th>0</th>\n",
       "      <td>biomass</td>\n",
       "      <td>20</td>\n",
       "      <td>0.7</td>\n",
       "      <td>0</td>\n",
       "      <td>1.0</td>\n",
       "      <td>5</td>\n",
       "      <td>1</td>\n",
       "      <td>12.76</td>\n",
       "      <td>1_000_000</td>\n",
       "    </tr>\n",
       "    <tr>\n",
       "      <th>1</th>\n",
       "      <td>wind_onshore</td>\n",
       "      <td>200</td>\n",
       "      <td>0.0</td>\n",
       "      <td>1</td>\n",
       "      <td>0.3</td>\n",
       "      <td>0</td>\n",
       "      <td>0</td>\n",
       "      <td>0.00</td>\n",
       "      <td>1_000_000</td>\n",
       "    </tr>\n",
       "    <tr>\n",
       "      <th>2</th>\n",
       "      <td>wind_offshore</td>\n",
       "      <td>200</td>\n",
       "      <td>0.0</td>\n",
       "      <td>1</td>\n",
       "      <td>0.7</td>\n",
       "      <td>0</td>\n",
       "      <td>0</td>\n",
       "      <td>0.00</td>\n",
       "      <td>1_000_000</td>\n",
       "    </tr>\n",
       "    <tr>\n",
       "      <th>3</th>\n",
       "      <td>solar_photovoltaic</td>\n",
       "      <td>100</td>\n",
       "      <td>0.0</td>\n",
       "      <td>1</td>\n",
       "      <td>0.6</td>\n",
       "      <td>0</td>\n",
       "      <td>0</td>\n",
       "      <td>0.00</td>\n",
       "      <td>1_000_000</td>\n",
       "    </tr>\n",
       "    <tr>\n",
       "      <th>4</th>\n",
       "      <td>gas_turbine</td>\n",
       "      <td>300</td>\n",
       "      <td>0.7</td>\n",
       "      <td>0</td>\n",
       "      <td>1.0</td>\n",
       "      <td>10</td>\n",
       "      <td>3</td>\n",
       "      <td>9.10</td>\n",
       "      <td>1_000_000</td>\n",
       "    </tr>\n",
       "    <tr>\n",
       "      <th>5</th>\n",
       "      <td>pumped_storage</td>\n",
       "      <td>40</td>\n",
       "      <td>0.0</td>\n",
       "      <td>0</td>\n",
       "      <td>1.0</td>\n",
       "      <td>0</td>\n",
       "      <td>1</td>\n",
       "      <td>0.00</td>\n",
       "      <td>1_000_000</td>\n",
       "    </tr>\n",
       "    <tr>\n",
       "      <th>6</th>\n",
       "      <td>battery</td>\n",
       "      <td>0</td>\n",
       "      <td>0.0</td>\n",
       "      <td>0</td>\n",
       "      <td>1.0</td>\n",
       "      <td>0</td>\n",
       "      <td>0</td>\n",
       "      <td>0.00</td>\n",
       "      <td>1_000_000</td>\n",
       "    </tr>\n",
       "  </tbody>\n",
       "</table>\n",
       "</div>"
      ],
      "text/plain": [
       "             Resource  Pmax  Pmin  is_variable   CF  VarOM  FuelCost  \\\n",
       "0             biomass    20   0.7            0  1.0      5         1   \n",
       "1        wind_onshore   200   0.0            1  0.3      0         0   \n",
       "2       wind_offshore   200   0.0            1  0.7      0         0   \n",
       "3  solar_photovoltaic   100   0.0            1  0.6      0         0   \n",
       "4         gas_turbine   300   0.7            0  1.0     10         3   \n",
       "5      pumped_storage    40   0.0            0  1.0      0         1   \n",
       "6             battery     0   0.0            0  1.0      0         0   \n",
       "\n",
       "   HeatRate       Capex  \n",
       "0     12.76   1_000_000  \n",
       "1      0.00   1_000_000  \n",
       "2      0.00   1_000_000  \n",
       "3      0.00   1_000_000  \n",
       "4      9.10   1_000_000  \n",
       "5      0.00   1_000_000  \n",
       "6      0.00   1_000_000  "
      ]
     },
     "execution_count": 1,
     "metadata": {},
     "output_type": "execute_result"
    }
   ],
   "source": [
    "import pandas as pd\n",
    "df_generators=pd.read_csv('generators.csv', sep=',')\n",
    "df_generators.fillna(0, inplace=True)\n",
    "\n",
    "df_variables = df_generators.loc[df_generators.is_variable==1]\n",
    "df_non_variables = df_generators.loc[df_generators.is_variable!=1]\n",
    "\n",
    "df_generators"
   ]
  },
  {
   "cell_type": "code",
   "execution_count": 2,
   "metadata": {},
   "outputs": [
    {
     "data": {
      "text/plain": [
       "Variable (dim_0: 7)\n",
       "-------------------\n",
       "[0]: generators[0] ∈ [0.7, 20]\n",
       "[1]: generators[1] ∈ [0, 200]\n",
       "[2]: generators[2] ∈ [0, 200]\n",
       "[3]: generators[3] ∈ [0, 100]\n",
       "[4]: generators[4] ∈ [0.7, 300]\n",
       "[5]: generators[5] ∈ [0, 40]\n",
       "[6]: generators[6] ∈ [0, 0]"
      ]
     },
     "execution_count": 2,
     "metadata": {},
     "output_type": "execute_result"
    }
   ],
   "source": [
    "import linopy \n",
    "\n",
    "model = linopy.Model()\n",
    "\n",
    "x = model.add_variables(lower=df_generators.Pmin,upper=df_generators.Pmax, coords=[df_generators.index],name = 'generators')\n",
    "x\n"
   ]
  },
  {
   "cell_type": "markdown",
   "metadata": {},
   "source": [
    "# ... will be completed soon"
   ]
  },
  {
   "cell_type": "markdown",
   "metadata": {},
   "source": []
  }
 ],
 "metadata": {
  "kernelspec": {
   "display_name": "pypsa_venv",
   "language": "python",
   "name": "python3"
  },
  "language_info": {
   "codemirror_mode": {
    "name": "ipython",
    "version": 3
   },
   "file_extension": ".py",
   "mimetype": "text/x-python",
   "name": "python",
   "nbconvert_exporter": "python",
   "pygments_lexer": "ipython3",
   "version": "3.11.9"
  }
 },
 "nbformat": 4,
 "nbformat_minor": 2
}
