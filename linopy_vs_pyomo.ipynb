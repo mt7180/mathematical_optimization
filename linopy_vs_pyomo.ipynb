{
 "cells": [
  {
   "cell_type": "markdown",
   "metadata": {},
   "source": [
    "## Experiments with linopy and pyomo\n"
   ]
  },
  {
   "cell_type": "markdown",
   "metadata": {},
   "source": [
    "A post office requires a different number of full time employees on different days of the week: Each worker must work 5 consecutive days and then have 2 days off. The office wants to meet its minimum requirement for workers. Write an LP to minimize the number of workers to be hired.\n",
    "\n",
    "Sets:\n",
    "$$D = \\text{set of week days}$$\n",
    "$$W = \\text{set of consecutive working days}$$\n",
    "Variables:\n",
    "$$x \\in \\mathbb{Z}^+$$\n",
    "Objective:\n",
    "minimize the total number of employees\n",
    "$$min_x\\text{ z} = \\sum_{d \\in D} x_d$$\n",
    "subject to:\n",
    "$$\\sum_{w \\in W} x_{(d+w)} \\mod 7 \\geq \\epsilon _d \\quad \\forall d \\in D$$\n",
    "$$\\epsilon_d:\\text{ number of full time employees per day }$$  \n",
    "with:\n",
    "<table style=\"margin-left: auto;margin-right: auto;\">\n",
    "<caption>number of full time employees per day</caption>\n",
    "  <tr>\n",
    "    <td>Monday</td>\n",
    "    <td>Tuesday</td>\n",
    "    <td>Wednesday</td>\n",
    "    <td>Thursday</td>\n",
    "    <td>Friday</td>\n",
    "    <td>Saturday</td>\n",
    "    <td>Sunday</td>\n",
    "  </tr>\n",
    "  <tr>\n",
    "    <td>17</td>\n",
    "    <td>13</td>\n",
    "    <td>15</td>\n",
    "    <td>19</td>\n",
    "    <td>14</td>\n",
    "    <td>16</td>\n",
    "    <td>11</td>\n",
    "  </tr>\n",
    "</table>\n"
   ]
  },
  {
   "cell_type": "markdown",
   "metadata": {},
   "source": []
  },
  {
   "cell_type": "code",
   "execution_count": 10,
   "metadata": {},
   "outputs": [
    {
     "name": "stdout",
     "output_type": "stream",
     "text": [
      "0: [0, 1, 2, 3, 4]\n",
      "1: [1, 2, 3, 4, 5]\n",
      "2: [2, 3, 4, 5, 6]\n",
      "3: [3, 4, 5, 6, 0]\n",
      "4: [4, 5, 6, 0, 1]\n",
      "5: [5, 6, 0, 1, 2]\n",
      "6: [6, 0, 1, 2, 3]\n"
     ]
    }
   ],
   "source": [
    "d = range(7)\n",
    "\n",
    "def test(d: int):\n",
    "    return [ (d + i)%7 for i in range(5)]\n",
    "\n",
    "for day in d:\n",
    "    print(f\"{day}: {test(day)}\")"
   ]
  },
  {
   "cell_type": "markdown",
   "metadata": {},
   "source": [
    "## Pyomo Solution"
   ]
  },
  {
   "cell_type": "code",
   "execution_count": 19,
   "metadata": {},
   "outputs": [
    {
     "name": "stdout",
     "output_type": "stream",
     "text": [
      "Running HiGHS 1.5.3 [date: 2023-05-16, git hash: 594fa5a9d]\n",
      "Copyright (c) 2023 HiGHS under MIT licence terms\n",
      "# ==========================================================\n",
      "# = Solver Results                                         =\n",
      "# ==========================================================\n",
      "# ----------------------------------------------------------\n",
      "#   Problem Information\n",
      "# ----------------------------------------------------------\n",
      "Problem: \n",
      "- Lower bound: 23.0\n",
      "  Upper bound: 23.0\n",
      "  Number of objectives: 1\n",
      "  Number of constraints: 0\n",
      "  Number of variables: 0\n",
      "  Sense: 1\n",
      "# ----------------------------------------------------------\n",
      "#   Solver Information\n",
      "# ----------------------------------------------------------\n",
      "Solver: \n",
      "- Status: ok\n",
      "  Termination condition: optimal\n",
      "  Termination message: TerminationCondition.optimal\n",
      "# ----------------------------------------------------------\n",
      "#   Solution Information\n",
      "# ----------------------------------------------------------\n",
      "Solution: \n",
      "- number of solutions: 0\n",
      "  number of solutions displayed: 0\n",
      "number of overall employees: 23.0\n",
      "2 Set Declarations\n",
      "    d : Size=1, Index=None, Ordered=Insertion\n",
      "        Key  : Dimen : Domain : Size : Members\n",
      "        None :     1 :    Any :    7 : {0, 1, 2, 3, 4, 5, 6}\n",
      "    wd : Size=1, Index=None, Ordered=Insertion\n",
      "        Key  : Dimen : Domain : Size : Members\n",
      "        None :     1 :    Any :    5 : {0, 1, 2, 3, 4}\n",
      "\n",
      "1 Param Declarations\n",
      "    epsilon : Size=7, Index=d, Domain=Any, Default=None, Mutable=False\n",
      "        Key : Value\n",
      "          0 :    17\n",
      "          1 :    13\n",
      "          2 :    15\n",
      "          3 :    19\n",
      "          4 :    14\n",
      "          5 :    16\n",
      "          6 :    11\n",
      "\n",
      "1 Var Declarations\n",
      "    x : Size=7, Index=d\n",
      "        Key : Lower : Value : Upper : Fixed : Stale : Domain\n",
      "          0 :     0 :   6.0 :  None : False : False : NonNegativeIntegers\n",
      "          1 :     0 :   0.0 :  None : False : False : NonNegativeIntegers\n",
      "          2 :     0 :   4.0 :  None : False : False : NonNegativeIntegers\n",
      "          3 :     0 :   0.0 :  None : False : False : NonNegativeIntegers\n",
      "          4 :     0 :   7.0 :  None : False : False : NonNegativeIntegers\n",
      "          5 :     0 :   5.0 :  None : False : False : NonNegativeIntegers\n",
      "          6 :     0 :   1.0 :  None : False : False : NonNegativeIntegers\n",
      "\n",
      "1 Objective Declarations\n",
      "    obj : Size=1, Index=None, Active=True\n",
      "        Key  : Active : Sense    : Expression\n",
      "        None :   True : minimize : x[0] + x[1] + x[2] + x[3] + x[4] + x[5] + x[6]\n",
      "\n",
      "1 Constraint Declarations\n",
      "    eq1 : full time employee requirement\n",
      "        Size=7, Index=d, Active=True\n",
      "        Key : Lower : Body                             : Upper : Active\n",
      "          0 :  17.0 : x[0] + x[1] + x[2] + x[3] + x[4] :  +Inf :   True\n",
      "          1 :  13.0 : x[1] + x[2] + x[3] + x[4] + x[5] :  +Inf :   True\n",
      "          2 :  15.0 : x[2] + x[3] + x[4] + x[5] + x[6] :  +Inf :   True\n",
      "          3 :  19.0 : x[3] + x[4] + x[5] + x[6] + x[0] :  +Inf :   True\n",
      "          4 :  14.0 : x[4] + x[5] + x[6] + x[0] + x[1] :  +Inf :   True\n",
      "          5 :  16.0 : x[5] + x[6] + x[0] + x[1] + x[2] :  +Inf :   True\n",
      "          6 :  11.0 : x[6] + x[0] + x[1] + x[2] + x[3] :  +Inf :   True\n",
      "\n",
      "6 Declarations: d wd x epsilon obj eq1\n"
     ]
    }
   ],
   "source": [
    "import pyomo.environ as pyomo\n",
    "model = pyomo.ConcreteModel()\n",
    "\n",
    "# the days of the week, starting at monday\n",
    "model.d = pyomo.Set(initialize = range(7))\n",
    "# consecutive working days\n",
    "model.wd = pyomo.Set(initialize = range(5))\n",
    "\n",
    "# number of starting workers per day\n",
    "model.x = pyomo.Var(model.d, within=pyomo.NonNegativeIntegers )\n",
    "\n",
    "# number of full time employees per day\n",
    "model.epsilon = pyomo.Param(\n",
    "    model.d,\n",
    "    initialize={\n",
    "        0: 17,\n",
    "        1: 13,\n",
    "        2: 15,\n",
    "        3: 19,\n",
    "        4: 14,\n",
    "        5: 16,\n",
    "        6: 11,\n",
    "    } \n",
    ")\n",
    "\n",
    "\n",
    "model.obj = pyomo.Objective(expr = sum(model.x[d] for d in model.d), sense=pyomo.minimize)\n",
    "\n",
    "\n",
    "def rule1(model, d):\n",
    "    return sum(model.x[(d+ working_day)%7]  for working_day in model.wd)  >= model.epsilon[d]\n",
    "\n",
    "model.eq1 = pyomo.Constraint(model.d, rule=rule1, doc=\"full time employee requirement\")\n",
    "\n",
    "\n",
    "optimizer = pyomo.SolverFactory('appsi_highs')\n",
    "log = optimizer.solve(model)\n",
    "\n",
    "log.write()\n",
    "\n",
    "print(f\"number of overall employees: {model.obj()}\")\n",
    "\n",
    "model.pprint()\n",
    "\n"
   ]
  },
  {
   "cell_type": "markdown",
   "metadata": {},
   "source": [
    "# Linopy Solution"
   ]
  },
  {
   "cell_type": "code",
   "execution_count": null,
   "metadata": {},
   "outputs": [],
   "source": []
  }
 ],
 "metadata": {
  "kernelspec": {
   "display_name": "pypsa_venv",
   "language": "python",
   "name": "python3"
  },
  "language_info": {
   "codemirror_mode": {
    "name": "ipython",
    "version": 3
   },
   "file_extension": ".py",
   "mimetype": "text/x-python",
   "name": "python",
   "nbconvert_exporter": "python",
   "pygments_lexer": "ipython3",
   "version": "3.11.7"
  }
 },
 "nbformat": 4,
 "nbformat_minor": 2
}
