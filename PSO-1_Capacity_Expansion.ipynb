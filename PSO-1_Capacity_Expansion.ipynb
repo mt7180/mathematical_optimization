{
 "cells": [
  {
   "cell_type": "markdown",
   "metadata": {},
   "source": [
    "# Power System Optimization\n",
    "\n",
    "Power system optimization addresses the challenges of the planning and operating of electrical power systems, including generation capacity planning, minimizing operational costs and reducing emissions.  \n",
    "\n",
    "#### Overview of some key optimization models for power system optimization, they differ in complexity and therefore in detail and computational requirements:\n",
    "- **Basic Capacity Expansion Problem**: fundamental in planning for future system capacity needs, focusing on minimizing investment and operational costs over time.\n",
    "- **Generation Expansion Planning (GEP)**: Similar to Capacity Expansion but usually considers a broader range of scenarios and longer time horizons, addressing long-term investment decisions.\n",
    "- **Economic Dispatch**: core operational model that ensures power generation is allocated optimally among generators to minimize cost.\n",
    "- **Economic-Emission Dispatch**: variation of economic dispatch that integrates emissions or other environmental concerns into the objective function.\n",
    "- **Unit Commitment**: Important for scheduling which generators should be online to meet demand in a cost-effective manner, considering startup/shutdown costs and constraints.\n",
    "- **Security-Constrained Unit Commitment (SCUC)**: extends Unit Commitment to consider contingencies and system security, ensuring that the scheduled generation can meet load requirements even after certain contingencies.\n",
    "- **Optimal Power Flow (OPF) -> Transport Model**: Core for ensuring the economic operation of power systems under various constraints like voltage, thermal limits, etc.\n",
    "- **AC Optimal Power Flow (AC-OPF)**: optimizing real and reactive power flows while considering the full nonlinearities of alternating current (AC) power flow equations, such as voltage and phase angle constraints.\n",
    "- **DC-OPF**: Linear Approximation of Optimal Power Flow: A linearized, computationally simpler version of AC-OPF, commonly used for large-scale applications due to its reduced complexity.\n",
    "- **Security-Constrained Optimal Power Flow (SCOPF)**: extension of OPF that incorporates contingency analysis to ensure the system can remain secure (meet demand) even if certain lines or generators fail.\n",
    "- **Security-Constrained Unit Commitment (SCUC)**: extends Unit Commitment to consider contingencies and system security, ensuring that the scheduled generation can meet load requirements even after certain contingencies.\n",
    "- **Stochastic/Robust Unit Commitment**: Addresses uncertainty in load, renewable generation, or system failures. These models are crucial with the increasing penetration of variable renewable energy sources (like wind and solar).\n",
    "\n",
    "- **Optimal Transmission Expansion Planning (TEP)**:Focuses on determining the optimal placement and capacity of new transmission lines to minimize overall system costs while ensuring system reliability.\n",
    "- **Multi-Period Optimal Power Flow (MOPF)**:Extends OPF by optimizing over multiple time periods (e.g., daily, weekly), allowing for better integration of time-varying aspects like demand and renewable generation.\n",
    "- **Optimal Reactive Power Dispatch (ORPD)**: An extension of OPF that focuses on optimizing reactive power flow to minimize losses and maintain voltage levels within prescribed limits.\n",
    "- **Distributed Optimal Power Flow (D-OPF)**:Accounts for distributed energy resources (DERs), such as rooftop solar or small-scale storage, and optimizes power flow with these added complexities.\n",
    "<br>\n",
    "\n",
    "#### Advanced\n",
    "\n",
    "- **Hydrothermal Coordination**: Models the joint operation of hydro and thermal power plants, which is important in systems with significant hydro generation.\n",
    "- **Market-based OPF**: Considers market mechanisms like locational marginal pricing (LMP) for optimal pricing and dispatch decisions.\n",
    "- **Co-optimization of Energy and Reserves**: Co-optimization of Energy and Reserves: Simultaneously optimizes energy and reserve markets, crucial in modern grids where balancing services are becoming increasingly necessary.\n",
    "\n",
    "<br>\n",
    "\n",
    "> **_NOTE_**: In general each **Constrained Optimization Model** consists of\n",
    "> - an objective function to be minimized or maximized, \n",
    "> - decision variables (variables to be adjusted), \n",
    "> - and constraints (limitations on the values of the decision variables).  \n",
    ">  \n"
   ]
  },
  {
   "cell_type": "markdown",
   "metadata": {},
   "source": [
    "### 1. Basic Capacity Expansion Problem\n",
    "\n",
    "**Objective**: minimizing the cost of fixed and variable costs across a fleet of power generators to meet anticipated future electricity demand.  \n",
    "**Note**:\n",
    "Inter-temporal operating constraints (e.g. ramp limits), energy storage, network constraints and geospatial tradeoffs, unit commitment decisions for thermal generators and operating reserves are ignored here\n",
    "\n",
    "#### Different complexity levels:  \n",
    "- Optimal thermal generator capacity expansion problem (Greenfield)  \n",
    "- Co-optimizing thermal generators and variable renewables  \n",
    "- Brownfield expansion and retirement decisions"
   ]
  },
  {
   "cell_type": "markdown",
   "metadata": {},
   "source": [
    "$$G = \\text{set of generators [geo, coal, CCGT, CT] }$$  \n",
    "$$H = \\text{the set of hours of the year}$$\n",
    "\n",
    "#### e.g.: Optimal thermal generator capacity expansion problem (Greenfield)\n",
    "\n",
    "Objective Function and corresponding constraints:  \n",
    "$$\\begin{aligned}\n",
    "    \\min &\\sum_{g \\in G} \\left(FixedCost_g \\times CAP_g +  \\sum_{h \\in H} VarCost_g \\times GEN_{g,h}\\right)& \\\\\n",
    "    &\\quad\\quad+ \\sum_{h \\in H} NSECost \\times NSE_h & \\\\\n",
    "    &\\text{s.t.} & \\\\\n",
    "    & \\sum_{g \\in G} GEN_{g,h} + NSE_h = Demand_h & \\forall \\quad h \\in H \\\\\n",
    "    & GEN_{g,h} \\leq CAP_g & \\forall \\quad g \\in G \\text{ \\& } h \\in H \\\\\n",
    "    & CAP_{g} \\geq 0 & \\forall \\quad g \\in G \\\\\n",
    "    & NSE_{h} \\geq 0 & \\forall \\quad h \\in H \\\\\n",
    "    & GEN_{g,h} \\geq 0 & \\forall \\quad g \\in G \\text{ \\& } h \\in H \\\\\n",
    "    \\end{aligned}$$\n",
    " "
   ]
  },
  {
   "cell_type": "markdown",
   "metadata": {},
   "source": [
    "Decision Variables:  \n",
    "$CAP_g$: the capacity (in MW) of each generation type  \n",
    "$GEN_{g,h}$ : the generation (in MWh) produced by each generator in each hour  \n",
    "$NSE_h$ :the quantity of involuntarily curtailed demand in each hour (in MWh)"
   ]
  },
  {
   "cell_type": "markdown",
   "metadata": {},
   "source": [
    "### 2. Economic Dispatch (ED)\n",
    "\n",
    "- **Objective**: Minimize short-run costs of different producing generators while meeting the total system damand, considering relevant constraints.\n",
    "- **Constraints**: Power balance (total generation = total demand), generation limits (minimum and maximum capacity), and sometimes ramp rates for generators.\n",
    "- **Assumptions**: Assumes the system can adjust generation output in real-time to minimize cost while meeting demand, without considering transmission constraints.Physics of electricity flows and constraints related to turning on or \"committing\" large thermal generators aswell as network representation are neglected  \n",
    "- **Advantages**: \n",
    "    - Simple and efficient for real-time dispatch decisions.\n",
    "    - Minimizes operating costs over short time horizons.\n",
    "- **Disadvantages**:\n",
    "    - Ignores power system constraints like voltage, line flow, and losses.\n",
    "    - Cannot handle reactive power optimization or voltage stability concerns.\n",
    "- **Note**: fixed costs will not change and would be constant in the objective \n",
    "function -> optimal decision variables would not change by adjusting this constant, therefore, they can safely be ignored for the purposes of finding optimal dispatch, but will have to be considered to calculate producer profits.\n",
    "- **Field of Application**:\n",
    "    - Real-time and short-term dispatch in power markets.\n",
    "    - Used in situations where the main concern is balancing generation and demand economically without consideration of network constraints.\n",
    "\n",
    "#### Different complexity levels:  \n",
    "- Single-time period, simple generator constraints\n",
    "- Multiple-time period, simple generator constraints\n",
    "- Multiple-time period, complex generator constraints with time coupling (_including ramp up and ramp down -> time coupling_)\n"
   ]
  },
  {
   "cell_type": "markdown",
   "metadata": {},
   "source": [
    "##### - Single-time period, simple generator constraints"
   ]
  },
  {
   "cell_type": "markdown",
   "metadata": {},
   "source": [
    "$$G = \\text{set of generators}$$\n",
    "\n",
    "Objective Function:  \n",
    "$$min \\sum_{g \\in G} \n",
    "VarCost_g \\times x_g$$\n",
    "\n",
    "s.t.\n",
    "$$\\begin{aligned}\n",
    "\\sum_g x_g&=Demand \\\\\n",
    "x_g &\\le P^{max}_g  \\quad  \\forall g \\in G \\\\\n",
    "x_g &\\ge P^{min}_g   \\quad \\forall g \\in G \\\\\n",
    "\\end{aligned}$$\n",
    "\n",
    "\n",
    "  \n",
    "Decision Variable:  \n",
    "$x_g$: generation in MW, produced by each generator g\n",
    "\n",
    "Parameters:\n",
    "\n",
    "- $P^{min}_g$, the minimum operating bounds for the generator (based on engineering or natural resource constraints)\n",
    "- $P^{max}_g$, the maximum operating bounds for the generator (based on engineering or natural resource constraints)\n",
    "- $Demand$ in MW\n",
    "- Variable Costs:\n",
    "\n",
    "$$\n",
    "VarCost_g = VarOM_g + HeatRate_g \\times FuelCost_g\n",
    "$$\n",
    "with OM: operating and maintenance"
   ]
  },
  {
   "cell_type": "code",
   "execution_count": 79,
   "metadata": {},
   "outputs": [
    {
     "data": {
      "text/plain": [
       "Variable (Resource: 7)\n",
       "----------------------\n",
       "[biomass]: generators[biomass] ∈ [0.7, 21.4]\n",
       "[wind_onshore]: generators[wind_onshore] ∈ [0.7, 21.4]\n",
       "[wind_offshore]: generators[wind_offshore] ∈ [0.7, 21.4]\n",
       "[solar_photovoltaic]: generators[solar_photovoltaic] ∈ [0.7, 21.4]\n",
       "[gas_turbine]: generators[gas_turbine] ∈ [0.7, 21.4]\n",
       "[pumped_storage]: generators[pumped_storage] ∈ [0.7, 21.4]\n",
       "[battery]: generators[battery] ∈ [0, 0]"
      ]
     },
     "execution_count": 79,
     "metadata": {},
     "output_type": "execute_result"
    }
   ],
   "source": [
    "\n",
    "ed_model = linopy.Model()\n",
    "\n",
    "x_g = ed_model.add_variables(lower=df_generators['Pmin'],upper=df_generators['Pmax'], coords=[df_generators.index],name = 'generators')\n",
    "x_g\n"
   ]
  },
  {
   "cell_type": "code",
   "execution_count": null,
   "metadata": {},
   "outputs": [],
   "source": [
    "sum( (gen_df[i,:heat_rate_mmbtu_per_mwh] * gen_df[i,:fuel_cost] +\n",
    "            gen_df[i,:var_om_cost_per_mwh]) * GEN[i] \n",
    "                        for i in G_nonvar) + \n",
    "sum(gen_df[i,:var_om_cost_per_mwh] * GEN[i] \n",
    "                for i in G_var)"
   ]
  },
  {
   "cell_type": "code",
   "execution_count": 80,
   "metadata": {},
   "outputs": [
    {
     "data": {
      "text/plain": [
       "Linopy LP model\n",
       "===============\n",
       "\n",
       "Variables:\n",
       "----------\n",
       " * generators (Resource)\n",
       "\n",
       "Constraints:\n",
       "------------\n",
       " * con0 (Resource)\n",
       " * con1 (Resource)\n",
       " * con2\n",
       "\n",
       "Status:\n",
       "-------\n",
       "initialized"
      ]
     },
     "execution_count": 80,
     "metadata": {},
     "output_type": "execute_result"
    }
   ],
   "source": [
    "\n",
    "const_load = 50\n",
    "\n",
    "con1 = ed_model.add_constraints(x_g >= df_generators['Pmin'])\n",
    "con2 = ed_model.add_constraints(x_g <= df_generators['Pmax'])\n",
    "con3 = ed_model.add_constraints(x_g.sum() == const_load)\n",
    "\n",
    "obj = (x_g * (df_generators['VarOM'] + df_generators['HeatRate'] * df_generators['FuelCost'])).sum()\n",
    "ed_model.add_objective(obj,overwrite=True, sense='min')\n",
    "ed_model #.solve()"
   ]
  },
  {
   "cell_type": "code",
   "execution_count": 81,
   "metadata": {},
   "outputs": [
    {
     "name": "stdout",
     "output_type": "stream",
     "text": [
      "Running HiGHS 1.5.3 [date: 2023-05-16, git hash: 594fa5a9d]\n",
      "Copyright (c) 2023 HiGHS under MIT licence terms\n",
      "Presolving model\n",
      "1 rows, 6 cols, 6 nonzeros\n",
      "1 rows, 3 cols, 3 nonzeros\n",
      "0 rows, 0 cols, 0 nonzeros\n",
      "Presolve : Reductions: rows 0(-15); columns 0(-7); elements 0(-21) - Reduced to empty\n",
      "Solving the original LP from the solution after postsolve\n",
      "Model   status      : Optimal\n",
      "Objective value     :  3.0636000000e+02\n",
      "HiGHS run time      :          0.00\n"
     ]
    },
    {
     "data": {
      "text/plain": [
       "('ok', 'optimal')"
      ]
     },
     "execution_count": 81,
     "metadata": {},
     "output_type": "execute_result"
    }
   ],
   "source": [
    "ed_model.solve()"
   ]
  },
  {
   "cell_type": "code",
   "execution_count": 82,
   "metadata": {},
   "outputs": [
    {
     "data": {
      "text/plain": [
       "<Axes: xlabel='Resource'>"
      ]
     },
     "execution_count": 82,
     "metadata": {},
     "output_type": "execute_result"
    },
    {
     "data": {
      "image/png": "[encoded data removed]",
      "text/plain": [
       "<Figure size 640x480 with 1 Axes>"
      ]
     },
     "metadata": {},
     "output_type": "display_data"
    }
   ],
   "source": [
    "solution = ed_model.solution.to_dataframe()\n",
    "solution.plot()"
   ]
  },
  {
   "cell_type": "markdown",
   "metadata": {},
   "source": [
    "##### Multiple-time period, simple generator constraints\n",
    "\n",
    "We neglected the time dimension above and now we will add it back in. The key changes to the model arise from adding an additional index for time:\n",
    "   \n",
    "$$\\begin{align}\n",
    "    \\min \\ & \\sum_{g \\in G, t \\in T} VarCost_g \\times GEN_{g,t} & \\\\\n",
    "    \\text{s.t.} & \\\\\n",
    "     & \\sum_{g} GEN_{g,t} = Demand_t & \\forall \\quad t \\in T \\  \\\\\n",
    "     & GEN_{g,t} \\leq Pmax_{g,t} & \\forall \\quad g \\in G , t \\in T \\\\\n",
    "    & GEN_{g,t} \\geq Pmin_{g,t} & \\forall \\quad g \\in G , t \\in T\n",
    "    \\end{align}\n",
    "$$\n",
    "    \n",
    "P_min and P_max are constant over time for conventional resources, but  \n",
    "for variable renewable generators, it is natural that $Pmax_{g,t}$ varies with time (i.e., based on solar irradiation or wind speeds). $Pmin_{g,t}$ for wind and solar resources is usually 0, but for hydropower resources, minimum streamflow constraints can produce a time-variant parameter.\n",
    "\n",
    "  "
   ]
  },
  {
   "cell_type": "markdown",
   "metadata": {},
   "source": [
    "### 3. Economic-Emissions Dispatch\n",
    "**Objective**: as for ED minimizing the short run costs a but also the emitted emissions of the generators -> multi-objective problem; different approaches possible"
   ]
  },
  {
   "cell_type": "markdown",
   "metadata": {},
   "source": [
    "### 4. Unit Commitment: \n",
    "involves scheduling the on/off status and output levels of generating units over a specified time horizon, ensuring that demand is met at the lowest cost while respecting technical constraints of the units."
   ]
  },
  {
   "cell_type": "markdown",
   "metadata": {},
   "source": [
    "### 5. Optimal Power Flow (OPF) -> Transport Model: \n",
    "straightforward extension to Economic Dispatch (ED). Aims to find the optimal operating conditions for a power system by minimizing a cost function, such as generation cost or power losses, subject to power flow equations and system constraints. The transport model simplifies this by focusing on the flow of power across the network. Multiple supply and demand balance constraints at each location/ \"node\" in the network  and a new set of flow constraints between nodes are defined. "
   ]
  },
  {
   "cell_type": "markdown",
   "metadata": {},
   "source": [
    "### 6. DC-OPF: Linear Approximation of Optimal Power Flow:\n",
    "a simplified version of the OPF problem that uses linear approximations to model the power system, incorporates (some) physics on how electricity flows along transmission lines: flows along lines are not independently controllable. electrical power flows across transmission lines in relation to their physical properties, namely power flows across parallel circuits or paths in inverse proportion to the electrical impedance of the lines. This can (very frequently) result in hitting flow constraints as for power flows across all lines as in the transport problem.\n",
    "\n",
    "\n",
    "can include inter-temporal constraints, additional generation constraints (e.g., on voltage), security constraints to ensure stability in the case of contingencies, and network losses."
   ]
  },
  {
   "cell_type": "markdown",
   "metadata": {},
   "source": [
    "Useful Links\n",
    "\n",
    "- https://github.com/Power-Systems-Optimization-Course/power-systems-optimization?tab=readme-ov-file\n",
    "- https://fneum.github.io/data-science-for-esm/09-workshop-pypsa.html#a-slightly-more-realistic-example\n",
    "\n",
    "- https://github.com/Pyomo/PyomoGallery/blob/master/maxflow/maxflow.ipynb\n",
    "\n"
   ]
  },
  {
   "cell_type": "markdown",
   "metadata": {},
   "source": []
  }
 ],
 "metadata": {
  "kernelspec": {
   "display_name": "pypsa_venv",
   "language": "python",
   "name": "python3"
  },
  "language_info": {
   "codemirror_mode": {
    "name": "ipython",
    "version": 3
   },
   "file_extension": ".py",
   "mimetype": "text/x-python",
   "name": "python",
   "nbconvert_exporter": "python",
   "pygments_lexer": "ipython3",
   "version": "3.11.9"
  }
 },
 "nbformat": 4,
 "nbformat_minor": 2
}
