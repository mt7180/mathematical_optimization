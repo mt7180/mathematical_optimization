{
 "cells": [
  {
   "cell_type": "markdown",
   "metadata": {},
   "source": [
    "## 1. Basic Capacity Expansion Problem\n",
    "_Power System Optimization_\n",
    "\n",
    "**Objective**: minimizing the cost of fixed and variable costs across a fleet of power generators to meet anticipated future electricity demand.  \n",
    "**Note**:\n",
    "Inter-temporal operating constraints (e.g. ramp limits), energy storage, network constraints and geospatial tradeoffs, unit commitment decisions for thermal generators and operating reserves are ignored here\n",
    "\n",
    "#### Different complexity levels:  \n",
    "- Optimal thermal generator capacity expansion problem (Greenfield)  \n",
    "- Co-optimizing thermal generators and variable renewables  \n",
    "- Brownfield expansion and retirement decisions"
   ]
  },
  {
   "cell_type": "markdown",
   "metadata": {},
   "source": [
    "### Optimal thermal generator capacity expansion problem (Greenfield)\n",
    "**Problem Formulation**:  \n",
    "Determine the most cost-effective mix of new thermal generation units for a power system, given projected electricity demand, fuel costs, and environmental constraints. Minimize the total cost of generation, which includes capital investment, operational, and maintenance costs, while satisfying operational constraints (such as generator limits). The \"Greenfield\" approach assumes no existing infrastructure, focusing solely on optimal new capacity decisions.\n",
    "\n",
    "$$G = \\text{set of generators [geo, coal, CCGT, CT] }$$  \n",
    "$$H = \\text{the set of hours of the year}$$\n",
    "\n",
    "Objective Function:\n",
    "\n",
    "   $$\\min \\sum_{g \\in G} \\left(FixedCost_g \\times CAP_g +  \\sum_{h \\in H} VarCost_g \\times x_{g,h}\\right) \\\\\n",
    "    \\quad\\quad+ \\sum_{h \\in H} NSECost \\times NSE_h  $$\n",
    "subject to:\n",
    "$$\\begin{aligned}\n",
    "    & \\sum_{g \\in G} x_{g,h} + NSE_h = Demand_h & \\forall \\quad h \\in H \\\\\n",
    "    & x_{g,h} \\leq CAP_g & \\quad \\forall g \\in G \\text{ , } h \\in H \\\\\n",
    "    & CAP_{g} \\geq 0 & \\quad \\forall g \\in G \\\\\n",
    "    & NSE_{h} \\geq 0 & \\quad \\forall  h \\in H \\\\\n",
    "    & x_{g,h} \\geq 0 & \\quad \\forall  g \\in G \\text{ , } h \\in H \\\\\n",
    "\\end{aligned}$$\n",
    " "
   ]
  },
  {
   "cell_type": "markdown",
   "metadata": {},
   "source": [
    "Decision Variables:  \n",
    "$CAP_g$: the capacity (in MW) of each generation type  \n",
    "$GEN_{g,h}$ : the generation (in MWh) produced by each generator in each hour  \n",
    "$NSE_h$ :the quantity of involuntarily curtailed demand in each hour (in MWh)"
   ]
  },
  {
   "cell_type": "markdown",
   "metadata": {},
   "source": []
  }
 ],
 "metadata": {
  "kernelspec": {
   "display_name": "pypsa_venv",
   "language": "python",
   "name": "python3"
  },
  "language_info": {
   "codemirror_mode": {
    "name": "ipython",
    "version": 3
   },
   "file_extension": ".py",
   "mimetype": "text/x-python",
   "name": "python",
   "nbconvert_exporter": "python",
   "pygments_lexer": "ipython3",
   "version": "3.11.9"
  }
 },
 "nbformat": 4,
 "nbformat_minor": 2
}
